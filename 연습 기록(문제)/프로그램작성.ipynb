{
 "cells": [
  {
   "cell_type": "markdown",
   "metadata": {},
   "source": [
    "# 11번"
   ]
  },
  {
   "cell_type": "code",
   "execution_count": 3,
   "metadata": {},
   "outputs": [
    {
     "name": "stdout",
     "output_type": "stream",
     "text": [
      "3\n",
      "3\n",
      "3\n"
     ]
    }
   ],
   "source": [
    "a =int(input())\n",
    "\n",
    "for i in range(1,a+1):\n",
    "    print(a)"
   ]
  },
  {
   "cell_type": "markdown",
   "metadata": {},
   "source": [
    "# 12번"
   ]
  },
  {
   "cell_type": "code",
   "execution_count": 3,
   "metadata": {},
   "outputs": [
    {
     "name": "stdout",
     "output_type": "stream",
     "text": [
      "-1\n",
      "0\n"
     ]
    }
   ],
   "source": [
    "sum_of_input = 0\n",
    "while True:\n",
    "    n = int(input())\n",
    "    print(n)\n",
    "    if n < 0:\n",
    "        break;\n",
    "    sum_of_input += n\n",
    "print(sum_of_input)"
   ]
  },
  {
   "cell_type": "code",
   "execution_count": 16,
   "metadata": {},
   "outputs": [
    {
     "data": {
      "text/plain": [
       "12"
      ]
     },
     "execution_count": 16,
     "metadata": {},
     "output_type": "execute_result"
    }
   ],
   "source": [
    "x = 1\n",
    "y = []\n",
    "while x >= 0:\n",
    "    x = int(input())\n",
    "    if x < 0:\n",
    "        break\n",
    "    y.append(x)\n",
    "sum(y)"
   ]
  },
  {
   "cell_type": "markdown",
   "metadata": {},
   "source": [
    "# 13번"
   ]
  },
  {
   "cell_type": "code",
   "execution_count": 29,
   "metadata": {},
   "outputs": [
    {
     "name": "stdout",
     "output_type": "stream",
     "text": [
      "원리금은 42875000.0원 입니다.\n"
     ]
    }
   ],
   "source": [
    "P = int(input('원금을 입력하시오'))\n",
    "R = float(input('연이율을 입력하시오'))\n",
    "T = int(input('기간을 입력하시오'))\n",
    "Q = P * (1 + R)**T\n",
    "\n",
    "def compound_amouny():\n",
    "    return Q \n",
    "print(f'원리금은 {Q}원 입니다.')"
   ]
  },
  {
   "cell_type": "code",
   "execution_count": 36,
   "metadata": {},
   "outputs": [
    {
     "name": "stdout",
     "output_type": "stream",
     "text": [
      "원리금은 42875000.0원 입니다.\n"
     ]
    }
   ],
   "source": [
    "### 13번 조금 줄인 버전\n",
    "P = int(input('원금을 입력하시오'))\n",
    "R = float(input('연이율을 입력하시오'))\n",
    "T = int(input('기간을 입력하시오'))\n",
    "\n",
    "def compound_amouny():\n",
    "    return P * (1 + R)**T\n",
    "print(f'원리금은 {P*(1+R)**T}원 입니다.')"
   ]
  },
  {
   "cell_type": "markdown",
   "metadata": {},
   "source": [
    "# 14번"
   ]
  },
  {
   "cell_type": "code",
   "execution_count": 5,
   "metadata": {},
   "outputs": [
    {
     "name": "stdout",
     "output_type": "stream",
     "text": [
      "각 자리 숫자의 합은 21 입니다.\n"
     ]
    }
   ],
   "source": [
    "x = int(input())\n",
    "def sum0fdigits(X):\n",
    "    result = 0\n",
    "    for i in str(x):\n",
    "         result = result + int(i)\n",
    "    return result\n",
    "print('각 자리 숫자의 합은 {} 입니다.'.format(sum0fdigits(x)))"
   ]
  },
  {
   "cell_type": "markdown",
   "metadata": {},
   "source": [
    "# 15번"
   ]
  },
  {
   "cell_type": "code",
   "execution_count": 8,
   "metadata": {},
   "outputs": [
    {
     "name": "stdout",
     "output_type": "stream",
     "text": [
      "2 3 5 7 11 13 17 19 23 29 \n",
      "31 37 41 43 47 53 59 61 67 71 \n",
      "73 79 83 89 97 "
     ]
    }
   ],
   "source": [
    "x = 2\n",
    "count = 0  \n",
    "while x <= 100:\n",
    "    i = 2  \n",
    "    while x % i:  \n",
    "        i += 1      \n",
    "    if i == x:  \n",
    "        print(x ,end=\" \")\n",
    "        count += 1\n",
    "        if not count % 10:  \n",
    "            print()\n",
    "    x += 1 "
   ]
  },
  {
   "cell_type": "code",
   "execution_count": 6,
   "metadata": {},
   "outputs": [
    {
     "name": "stdout",
     "output_type": "stream",
     "text": [
      "[2, 3, 5, 7, 11, 13, 17, 19, 23, 29, 31, 37, 41, 43, 47, 53, 59, 61, 67, 71, 73, 79, 83, 89, 97]\n"
     ]
    }
   ],
   "source": [
    "# 강사님 방식\n",
    "def is_prime(n):\n",
    "    for i in range(2,n):\n",
    "        if n % i == 0:\n",
    "            return False\n",
    "    return True\n",
    "\n",
    "prime_number = [i for i in range(2, 101)if is_prime(i)]\n",
    "print(prime_number)"
   ]
  },
  {
   "cell_type": "markdown",
   "metadata": {},
   "source": [
    "# 16번"
   ]
  },
  {
   "cell_type": "code",
   "execution_count": 50,
   "metadata": {},
   "outputs": [
    {
     "data": {
      "text/plain": [
       "'2000-02-25'"
      ]
     },
     "execution_count": 50,
     "metadata": {},
     "output_type": "execute_result"
    }
   ],
   "source": [
    "year, month, day = map(int,input().split())\n",
    "today = f'{year:4d}-{month:02d}-{day:02d}'\n",
    "today\n",
    "# 함수 없이 도전하려다 변수가 너무 많아 버림"
   ]
  },
  {
   "cell_type": "code",
   "execution_count": 62,
   "metadata": {},
   "outputs": [
    {
     "name": "stdout",
     "output_type": "stream",
     "text": [
      "오늘은2000-02-25입니다. \n",
      "내일은2000-02-26입니다.\n"
     ]
    }
   ],
   "source": [
    "# 코딩도장 보면서 도전\n",
    "import datetime\n",
    "year, month, day = map(int,input().split())\n",
    "d = datetime.datetime(year, month, day)\n",
    "\n",
    "from datetime import timedelta\n",
    "add1= timedelta(days=1)\n",
    "tomorrow = d + add1\n",
    "\n",
    "print('오늘은'+d.strftime('%Y-%m-%d')+'입니다. \\n내일은'+tomorrow.strftime('%Y-%m-%d')+'입니다.')"
   ]
  },
  {
   "cell_type": "code",
   "execution_count": 9,
   "metadata": {},
   "outputs": [
    {
     "name": "stdout",
     "output_type": "stream",
     "text": [
      "2000-02-25\n"
     ]
    }
   ],
   "source": [
    "# 강사님 방법\n",
    "month_day = {1:31,2:28,3:31,4:30,5:31,6:30,7:31,8:31,9:30,10:31,11:30,12:30}\n",
    "year, month, day = map(int, input('년 월 일').split())\n",
    "print(f'{year:04d}-{month:02d}-{day:02d}')"
   ]
  },
  {
   "cell_type": "markdown",
   "metadata": {},
   "source": [
    "# 17번"
   ]
  },
  {
   "cell_type": "code",
   "execution_count": 10,
   "metadata": {},
   "outputs": [
    {
     "name": "stdout",
     "output_type": "stream",
     "text": [
      "두 직각변의 길이가 3.0, 5.0이므로 빗변의 길이는 5.831 입니다.\n"
     ]
    }
   ],
   "source": [
    "def hypotenuse(a, b):\n",
    "    c = (a**2 + b**2)**0.5\n",
    "    print(f'두 직각변의 길이가 {a}, {b}이므로 빗변의 길이는 {c:.3f} 입니다.')\n",
    "\n",
    "a, b = map(float,input('두 직각변의 길이를 입력하시오').split()) \n",
    "hypotenuse(a,b)\n"
   ]
  },
  {
   "cell_type": "markdown",
   "metadata": {},
   "source": [
    "# 18번"
   ]
  },
  {
   "cell_type": "code",
   "execution_count": 5,
   "metadata": {},
   "outputs": [
    {
     "name": "stdout",
     "output_type": "stream",
     "text": [
      "1+5=6\n",
      "2+3=5\n",
      "1+6=7\n",
      "3+1=4\n",
      "5+5=10\n"
     ]
    }
   ],
   "source": [
    "import random\n",
    "while 1:\n",
    "    dice1 = random.randint(1,6)\n",
    "    dice2 = random.randint(1,6)\n",
    "    add_dice = dice1 + dice2\n",
    "    print(f'{dice1}+{dice2}={add_dice}')\n",
    "    if add_dice >=10:\n",
    "        break"
   ]
  },
  {
   "cell_type": "markdown",
   "metadata": {},
   "source": [
    "# 19번"
   ]
  },
  {
   "cell_type": "code",
   "execution_count": 11,
   "metadata": {},
   "outputs": [
    {
     "name": "stdout",
     "output_type": "stream",
     "text": [
      "5시 15분으로 맞춰야 합니다.\n"
     ]
    }
   ],
   "source": [
    "hour, minute = map(int,input().split())\n",
    "if minute < 45:\n",
    "    print(f'{hour-1}시 {60-45+minute}분으로 맞춰야 합니다.')\n",
    "else:\n",
    "    print(f'{hour}시 {60-minute}분으로 맞춰야 합니다.')"
   ]
  },
  {
   "cell_type": "markdown",
   "metadata": {},
   "source": [
    "# 20번"
   ]
  },
  {
   "cell_type": "code",
   "execution_count": 51,
   "metadata": {},
   "outputs": [],
   "source": [
    "file1 = open(\"lipsum.txt\", 'r')\n",
    "s = file1.read()"
   ]
  },
  {
   "cell_type": "code",
   "execution_count": 52,
   "metadata": {},
   "outputs": [
    {
     "name": "stdout",
     "output_type": "stream",
     "text": [
      "0\n"
     ]
    }
   ],
   "source": [
    "count = 0\n",
    "for words in s:\n",
    "    if(words.strip(',.')=='the'):\n",
    "        count+=1\n",
    "print(count)\n",
    "# 파일읽는 법을 모르겠어요.."
   ]
  },
  {
   "cell_type": "code",
   "execution_count": null,
   "metadata": {},
   "outputs": [],
   "source": []
  }
 ],
 "metadata": {
  "interpreter": {
   "hash": "9459de32d5ca2a57cd93a1169c99c6090e3e7c98f7fac5dc8fa5b4017ec3f43e"
  },
  "kernelspec": {
   "display_name": "Python 3.8.8 64-bit ('base': conda)",
   "language": "python",
   "name": "python3"
  },
  "language_info": {
   "codemirror_mode": {
    "name": "ipython",
    "version": 3
   },
   "file_extension": ".py",
   "mimetype": "text/x-python",
   "name": "python",
   "nbconvert_exporter": "python",
   "pygments_lexer": "ipython3",
   "version": "3.8.8"
  },
  "orig_nbformat": 4
 },
 "nbformat": 4,
 "nbformat_minor": 2
}
