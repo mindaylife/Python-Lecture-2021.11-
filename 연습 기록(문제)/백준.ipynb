{
 "cells": [
  {
   "cell_type": "markdown",
   "metadata": {},
   "source": [
    "#### 오븐 시계"
   ]
  },
  {
   "cell_type": "code",
   "execution_count": 3,
   "metadata": {},
   "outputs": [
    {
     "name": "stdout",
     "output_type": "stream",
     "text": [
      "14 33 20\n"
     ]
    }
   ],
   "source": [
    "A, B ,C= map(int,input().split())\n",
    "D = int(input())\n",
    "\n",
    "C += D % 60\n",
    "D = D // 60\n",
    "if C >=60:\n",
    "    C-=60\n",
    "    B +=1\n",
    "B += D % 60\n",
    "D = D // 60\n",
    "if B >=60:\n",
    "    B -=60\n",
    "    A +=1\n",
    "A += D %24\n",
    "if A >= 24:\n",
    "    A -=24\n",
    "print(A, B, C)"
   ]
  },
  {
   "cell_type": "code",
   "execution_count": 5,
   "metadata": {},
   "outputs": [
    {
     "name": "stdout",
     "output_type": "stream",
     "text": [
      "23 27\n"
     ]
    }
   ],
   "source": [
    "A, B = map(int,input().split())\n",
    "C = int(input())\n",
    "\n",
    "A += C // 60\n",
    "B += C % 60 \n",
    "\n",
    "if B >=60:\n",
    "    A+=1\n",
    "    B -=60\n",
    "if A >=24:\n",
    "    A -=24\n",
    "\n",
    "print(A, B)"
   ]
  },
  {
   "cell_type": "markdown",
   "metadata": {},
   "source": [
    "#### 2752. 순서대로 출력하기"
   ]
  },
  {
   "cell_type": "code",
   "execution_count": 32,
   "metadata": {},
   "outputs": [
    {
     "name": "stdout",
     "output_type": "stream",
     "text": [
      "45 54 78\n"
     ]
    }
   ],
   "source": [
    "a, b, c = map(int, input().split())\n",
    "d = []\n",
    "d.append(a),d.append(b),d.append(c)\n",
    "e = sorted(d)\n",
    "print(e[0],e[1],e[2])"
   ]
  },
  {
   "cell_type": "code",
   "execution_count": 36,
   "metadata": {},
   "outputs": [
    {
     "name": "stdout",
     "output_type": "stream",
     "text": [
      "34 57 85\n"
     ]
    }
   ],
   "source": [
    "#다른 버전\n",
    "n= list(map(int, input().split()))\n",
    "n.sort()\n",
    "print(*n)"
   ]
  },
  {
   "cell_type": "markdown",
   "metadata": {},
   "source": [
    "#### 2753.윤년"
   ]
  },
  {
   "cell_type": "code",
   "execution_count": 26,
   "metadata": {},
   "outputs": [
    {
     "name": "stdout",
     "output_type": "stream",
     "text": [
      "1\n"
     ]
    }
   ],
   "source": [
    "a = int(input())\n",
    "\n",
    "if a % 400 == 0:\n",
    "    print(1)\n",
    "elif a % 4 == 0 and a % 100 != 0:\n",
    "    print(1)\n",
    "else:\n",
    "    print(0)"
   ]
  },
  {
   "cell_type": "markdown",
   "metadata": {},
   "source": [
    "#### 4101.크냐?"
   ]
  },
  {
   "cell_type": "code",
   "execution_count": 25,
   "metadata": {},
   "outputs": [],
   "source": [
    "while(True):\n",
    "    a, b = map(int, input().split())\n",
    "    if a > b:\n",
    "        print('Yes')\n",
    "    if a == 0 and b == 0:\n",
    "        break\n",
    "    if a <= b:\n",
    "        print('No')"
   ]
  },
  {
   "cell_type": "markdown",
   "metadata": {},
   "source": [
    "#### 4892. 숫자 맞추기 게임"
   ]
  },
  {
   "cell_type": "code",
   "execution_count": 41,
   "metadata": {},
   "outputs": [
    {
     "name": "stdout",
     "output_type": "stream",
     "text": [
      "1. odd 18\n",
      "2. even 19\n"
     ]
    }
   ],
   "source": [
    "i = 0\n",
    "while(True):\n",
    "    a = int(input())\n",
    "    i += 1\n",
    "    if a == 0:\n",
    "        break\n",
    "    if (a * 3) % 2 == 0:\n",
    "        a = a * 3\n",
    "        a1 = a/2\n",
    "        a2 = 3*a1\n",
    "        a3 = int(a2/9)\n",
    "        print(f'{i}. even {a3}')\n",
    "    else:\n",
    "        a = a * 3\n",
    "        a1 = (a+1)/2\n",
    "        a2 = 3*a1\n",
    "        a3 = int(a2/9)\n",
    "        print(f'{i}. odd {a3}')"
   ]
  },
  {
   "cell_type": "markdown",
   "metadata": {},
   "source": [
    "#### 9498. 시험성적"
   ]
  },
  {
   "cell_type": "code",
   "execution_count": 17,
   "metadata": {},
   "outputs": [
    {
     "name": "stdout",
     "output_type": "stream",
     "text": [
      "B\n"
     ]
    }
   ],
   "source": [
    "a = int(input())\n",
    "\n",
    "if a >= 90:\n",
    "    print('A')\n",
    "elif a >= 80:\n",
    "    print('B')\n",
    "elif a >=70:\n",
    "    print('C')\n",
    "elif a >=60:\n",
    "    print('D')\n",
    "else:\n",
    "    print('F')"
   ]
  },
  {
   "cell_type": "code",
   "execution_count": 18,
   "metadata": {},
   "outputs": [
    {
     "name": "stdout",
     "output_type": "stream",
     "text": [
      ".  .   .\n",
      "|  | _ | _. _ ._ _  _\n",
      "|/\\|(/.|(_.(_)[ | )(/.\n"
     ]
    }
   ],
   "source": [
    "print('.  .   .')\n",
    "print(\"|  | _ | _. _ ._ _  _\")\n",
    "print(\"|/\\|(/.|(_.(_)[ | )(/.\")"
   ]
  },
  {
   "cell_type": "code",
   "execution_count": null,
   "metadata": {},
   "outputs": [],
   "source": []
  }
 ],
 "metadata": {
  "interpreter": {
   "hash": "9459de32d5ca2a57cd93a1169c99c6090e3e7c98f7fac5dc8fa5b4017ec3f43e"
  },
  "kernelspec": {
   "display_name": "Python 3.8.8 64-bit ('base': conda)",
   "language": "python",
   "name": "python3"
  },
  "language_info": {
   "codemirror_mode": {
    "name": "ipython",
    "version": 3
   },
   "file_extension": ".py",
   "mimetype": "text/x-python",
   "name": "python",
   "nbconvert_exporter": "python",
   "pygments_lexer": "ipython3",
   "version": "3.8.8"
  },
  "orig_nbformat": 4
 },
 "nbformat": 4,
 "nbformat_minor": 2
}
