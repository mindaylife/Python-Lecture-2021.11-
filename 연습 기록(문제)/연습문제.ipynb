{
 "cells": [
  {
   "cell_type": "markdown",
   "metadata": {},
   "source": [
    "### (별   그리기)\n",
    "5이상   9이하의   홀수를   입력받아   다이아몬드   형태의   별을   출력하는   프로그램을 작성하시오.\n",
    "예) N=7"
   ]
  },
  {
   "cell_type": "code",
   "execution_count": 34,
   "metadata": {},
   "outputs": [
    {
     "name": "stdout",
     "output_type": "stream",
     "text": [
      "  *  \n",
      " *** \n",
      "*****\n",
      " *** \n",
      "  *  \n"
     ]
    }
   ],
   "source": [
    "n = int(input())\n",
    "\n",
    "for i in range(n):\n",
    "    if i <= n // 2:\n",
    "        star = '*' * (2*i + 1)\n",
    "    else:  \n",
    "        star = '*' * (2 * (n-i) -1)\n",
    "    print(f'{star:^{n}s}')\n"
   ]
  },
  {
   "cell_type": "markdown",
   "metadata": {},
   "source": [
    "### 디지털   시계에   하루동안(00:00~23:59) 3이   표시되는   시간을   초로   환산하면   총   몇   초(second) 일까요?\n",
    "- 디지털   시계는   하루동안   다음과   같이   시:분(00:00~23:59)으로   표시됨.\n",
    "00:00 (60초간   표시) 00:01 \n",
    "…\n",
    "23:59"
   ]
  },
  {
   "cell_type": "code",
   "execution_count": 26,
   "metadata": {},
   "outputs": [
    {
     "name": "stdout",
     "output_type": "stream",
     "text": [
      "29700\n"
     ]
    }
   ],
   "source": [
    "total_seconds = 0\n",
    "for hour in range(24):\n",
    "    for minute in range(60):\n",
    "        display = f'{hour:02d}:{minute:02d}'\n",
    "        if '3' in display:\n",
    "            total_seconds +=60\n",
    "print(total_seconds)\n",
    "        "
   ]
  },
  {
   "cell_type": "markdown",
   "metadata": {},
   "source": [
    "### 1~1000에서   각   숫자의   개수를   구하시오.\n",
    "- 예로   10 ~ 15 까지의   각   숫자의   개수를   구해보자.\n",
    "        \n",
    "        -10 = 1, 0 \n",
    "        -11 = 1, 1 \n",
    "        -12 = 1, 2 \n",
    "        -13 = 1, 3 \n",
    "        -14 = 1, 4 \n",
    "        -15 = 1, 5"
   ]
  },
  {
   "cell_type": "code",
   "execution_count": 33,
   "metadata": {},
   "outputs": [
    {
     "data": {
      "text/plain": [
       "{0: 9, 1: 19, 2: 19, 3: 19, 4: 19, 5: 19, 6: 19, 7: 19, 8: 19, 9: 19}"
      ]
     },
     "execution_count": 33,
     "metadata": {},
     "output_type": "execute_result"
    }
   ],
   "source": [
    "# 두자리수(10~99)\n",
    "number_count = {i:0 for i in range(10)}\n",
    "for n in range(10,100):\n",
    "    ten, one = n //10, n%10\n",
    "    number_count[ten] += 1\n",
    "    number_count[one] += 1\n",
    "number_count"
   ]
  },
  {
   "cell_type": "code",
   "execution_count": 36,
   "metadata": {},
   "outputs": [
    {
     "data": {
      "text/plain": [
       "{0: 192,\n",
       " 1: 301,\n",
       " 2: 300,\n",
       " 3: 300,\n",
       " 4: 300,\n",
       " 5: 300,\n",
       " 6: 300,\n",
       " 7: 300,\n",
       " 8: 300,\n",
       " 9: 300}"
      ]
     },
     "execution_count": 36,
     "metadata": {},
     "output_type": "execute_result"
    }
   ],
   "source": [
    "# 문자로 해결\n",
    "number_count = {i:0 for i in range(10)}\n",
    "number_str = ''\n",
    "for i in range(1,1001):\n",
    "    number_str += str(i)\n",
    "for i in range(10):\n",
    "    number_count[i] = number_str.count(str(i))\n",
    "number_count"
   ]
  },
  {
   "cell_type": "markdown",
   "metadata": {},
   "source": [
    "count = 0의 갯수, 1의 갯수, ...... 9의갯수"
   ]
  },
  {
   "cell_type": "markdown",
   "metadata": {},
   "source": [
    "자기   자신을   제외한    모든   양의   약수들의   합이   자기   자신이   되는   자연수를   완전수라고   한다. 예를   들면, 6과   28은   완전수이다.\n",
    "6=1+2+3         # 1,2,3은   각각   6의   약수\n",
    "28=1+2+4+7+14   # 1,2,4,7,14는   각각    28의   약수.\n",
    "###  입력으로   자연수   N을   받고, 출력으로   N 이하의   모든   완전수를   출력하는   코드를   작성하시오."
   ]
  },
  {
   "cell_type": "code",
   "execution_count": 39,
   "metadata": {},
   "outputs": [
    {
     "name": "stdout",
     "output_type": "stream",
     "text": [
      "6\n",
      "28\n",
      "496\n",
      "8128\n"
     ]
    }
   ],
   "source": [
    "N = int(input())\n",
    "for i in range(2, N+1):\n",
    "    sum_of_divisor = 0\n",
    "    for k in range(1, i):\n",
    "        if i % k == 0:\n",
    "            sum_of_divisor += k\n",
    "    if sum_of_divisor == i:\n",
    "        print(sum_of_divisor)"
   ]
  },
  {
   "cell_type": "code",
   "execution_count": 95,
   "metadata": {},
   "outputs": [],
   "source": [
    "def is_perfect(n):\n",
    "    sum_of_divisor = 0\n",
    "    for k in range(1, i):\n",
    "        if i % k == 0:\n",
    "            sum_of_divisor += k\n",
    "    if sum_of_divisor == i:\n",
    "        return True\n",
    "    return False"
   ]
  },
  {
   "cell_type": "code",
   "execution_count": 96,
   "metadata": {},
   "outputs": [],
   "source": [
    "def is_perfect(n):\n",
    "    sum_of_divisor = 0\n",
    "    for k in range(1, i):\n",
    "        if i % k == 0:\n",
    "            sum_of_divisor += k\n",
    "    return sum_of_divisor == i"
   ]
  },
  {
   "cell_type": "code",
   "execution_count": 106,
   "metadata": {},
   "outputs": [
    {
     "name": "stdout",
     "output_type": "stream",
     "text": [
      "6은 완전수입니다.\n",
      "28은 완전수입니다.\n",
      "496은 완전수입니다.\n",
      "8128은 완전수입니다.\n"
     ]
    }
   ],
   "source": [
    "N = int(input()) \n",
    "\n",
    "for i in range(2, N+1):\n",
    "    if is_perfect(i):\n",
    "        print(f'{i}은 완전수입니다.')"
   ]
  },
  {
   "cell_type": "markdown",
   "metadata": {},
   "source": [
    "입력으로 자연수 n을 받아 , 1부터 n까지 자연수에 대해 '합의 제곱'과 제곱의 합'의 차이는 얼마인가?"
   ]
  },
  {
   "cell_type": "code",
   "execution_count": 41,
   "metadata": {},
   "outputs": [
    {
     "name": "stdout",
     "output_type": "stream",
     "text": [
      "합의 제곱 - 제곱의 합 = 25164150\n"
     ]
    }
   ],
   "source": [
    "N = int(input())\n",
    "sum_of_square = 0\n",
    "sum_of_plain = 0\n",
    "for i in range(1,N+1):\n",
    "    sum_of_plain += i\n",
    "    sum_of_square += i*i\n",
    "print(f'합의 제곱 - 제곱의 합 = {sum_of_plain**2 - sum_of_square}')"
   ]
  },
  {
   "cell_type": "markdown",
   "metadata": {},
   "source": [
    "### 2의 거듭제곱 리스트로 뽑아내기"
   ]
  },
  {
   "cell_type": "code",
   "execution_count": 62,
   "metadata": {},
   "outputs": [
    {
     "name": "stdout",
     "output_type": "stream",
     "text": [
      "[2, 8, 16, 32, 64, 128, 256, 1024]\n"
     ]
    }
   ],
   "source": [
    "a, b = map(int, input().split())\n",
    "c = []\n",
    "for i in range(a, b+1):\n",
    "    c.append(2 ** i)\n",
    "c.pop(1)\n",
    "c.pop(-2)\n",
    "print(c)"
   ]
  },
  {
   "cell_type": "code",
   "execution_count": 59,
   "metadata": {},
   "outputs": [
    {
     "name": "stdout",
     "output_type": "stream",
     "text": [
      "[2, 8, 16, 32, 64, 128, 256, 1024]\n"
     ]
    }
   ],
   "source": [
    "a, b = map(int, input().split())\n",
    "c = [2 ** i for i in range(a, b + 1)]\n",
    "c.pop(1)\n",
    "c.pop(-2)\n",
    "print(c)\n"
   ]
  }
 ],
 "metadata": {
  "interpreter": {
   "hash": "9459de32d5ca2a57cd93a1169c99c6090e3e7c98f7fac5dc8fa5b4017ec3f43e"
  },
  "kernelspec": {
   "display_name": "Python 3.8.8 64-bit ('base': conda)",
   "language": "python",
   "name": "python3"
  },
  "language_info": {
   "codemirror_mode": {
    "name": "ipython",
    "version": 3
   },
   "file_extension": ".py",
   "mimetype": "text/x-python",
   "name": "python",
   "nbconvert_exporter": "python",
   "pygments_lexer": "ipython3",
   "version": "3.8.8"
  },
  "orig_nbformat": 4
 },
 "nbformat": 4,
 "nbformat_minor": 2
}
