{
 "cells": [
  {
   "cell_type": "markdown",
   "metadata": {},
   "source": [
    "# Unit 13. if 조건문으로 특정 조건일 때 코드 실행하기"
   ]
  },
  {
   "cell_type": "code",
   "execution_count": 1,
   "metadata": {},
   "outputs": [
    {
     "name": "stdout",
     "output_type": "stream",
     "text": [
      "10 입니다.\n"
     ]
    }
   ],
   "source": [
    "x = 10\n",
    "if x ==10:\n",
    "    print('10 입니다.')"
   ]
  },
  {
   "cell_type": "code",
   "execution_count": 2,
   "metadata": {},
   "outputs": [
    {
     "name": "stdout",
     "output_type": "stream",
     "text": [
      "10입니다.\n",
      "이곳은 조건이 참일 경우에 실행되는 문장입니다.\n",
      "이곳은 조건과 무관하게 실행되는 문장입니다.\n"
     ]
    }
   ],
   "source": [
    "if x == 10:\n",
    "    print('10입니다.')\n",
    "    print('이곳은 조건이 참일 경우에 실행되는 문장입니다.')\n",
    "print('이곳은 조건과 무관하게 실행되는 문장입니다.')"
   ]
  },
  {
   "cell_type": "markdown",
   "metadata": {},
   "source": [
    " -중첩(Nested) 조건문"
   ]
  },
  {
   "cell_type": "code",
   "execution_count": 13,
   "metadata": {},
   "outputs": [
    {
     "name": "stdout",
     "output_type": "stream",
     "text": [
      "10초과\n"
     ]
    }
   ],
   "source": [
    "x = 25\n",
    "if x > 10:\n",
    "    print('10초과')\n",
    "    if x % 3 == 0:\n",
    "        print('3의 배수')\n",
    "        if x % 5 == 0:\n",
    "            print('5의 배수')"
   ]
  },
  {
   "cell_type": "code",
   "execution_count": 15,
   "metadata": {},
   "outputs": [
    {
     "name": "stdout",
     "output_type": "stream",
     "text": [
      "10초과\n",
      "3의 배수\n",
      "5의 배수\n"
     ]
    }
   ],
   "source": [
    "x = int(input('정수 입력'))\n",
    "if x > 10:\n",
    "    print('10초과')\n",
    "    if x % 3 == 0:\n",
    "        print('3의 배수')\n",
    "        if x % 5 == 0:\n",
    "            print('5의 배수')"
   ]
  },
  {
   "cell_type": "code",
   "execution_count": 32,
   "metadata": {},
   "outputs": [
    {
     "name": "stdout",
     "output_type": "stream",
     "text": [
      "10초과\n",
      "x 값은 17 입니다.\n"
     ]
    }
   ],
   "source": [
    "import random\n",
    "random.seed(2021)\n",
    "x = random.randint(5,20)\n",
    "if x > 10:\n",
    "    print('10초과')\n",
    "    if x % 3 == 0:\n",
    "        print('3의 배수')\n",
    "        if x % 5 == 0:\n",
    "            print('5의 배수')\n",
    "print(f'x 값은 {x} 입니다.')\n",
    "\n",
    "# seed는 값을 고정해 준다."
   ]
  },
  {
   "cell_type": "code",
   "execution_count": 31,
   "metadata": {},
   "outputs": [
    {
     "name": "stdout",
     "output_type": "stream",
     "text": [
      "10초과\n",
      "x 값은 19 입니다.\n"
     ]
    }
   ],
   "source": [
    "import random\n",
    "x = random.randint(5,20)\n",
    "if x > 10:\n",
    "    print('10초과')\n",
    "    if x % 3 == 0:\n",
    "        print('3의 배수')\n",
    "        if x % 5 == 0:\n",
    "            print('5의 배수')\n",
    "print(f'x 값은 {x} 입니다.')"
   ]
  },
  {
   "cell_type": "code",
   "execution_count": null,
   "metadata": {},
   "outputs": [],
   "source": []
  }
 ],
 "metadata": {
  "interpreter": {
   "hash": "9459de32d5ca2a57cd93a1169c99c6090e3e7c98f7fac5dc8fa5b4017ec3f43e"
  },
  "kernelspec": {
   "display_name": "Python 3.8.8 64-bit ('base': conda)",
   "language": "python",
   "name": "python3"
  },
  "language_info": {
   "codemirror_mode": {
    "name": "ipython",
    "version": 3
   },
   "file_extension": ".py",
   "mimetype": "text/x-python",
   "name": "python",
   "nbconvert_exporter": "python",
   "pygments_lexer": "ipython3",
   "version": "3.8.8"
  },
  "orig_nbformat": 4
 },
 "nbformat": 4,
 "nbformat_minor": 2
}
